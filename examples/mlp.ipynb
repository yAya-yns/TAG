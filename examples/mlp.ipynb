{
 "cells": [
  {
   "cell_type": "code",
   "execution_count": 1,
   "id": "10761ffc",
   "metadata": {},
   "outputs": [],
   "source": [
    "# Copyright (c) Facebook, Inc. and its affiliates.\n",
    "# All rights reserved.\n",
    "#\n",
    "# This source code is licensed under the license found in the\n",
    "# LICENSE file in the root directory of this source tree.\n",
    "\n",
    "import torch\n",
    "import torch.nn as nn\n",
    "from ppuda.ghn.nn import GHN2\n",
    "from ppuda.deepnets1m.graph import Graph"
   ]
  },
  {
   "cell_type": "markdown",
   "id": "38573384",
   "metadata": {},
   "source": [
    "# Predict parameters for a fully-connected neural network (MLP)"
   ]
  },
  {
   "cell_type": "code",
   "execution_count": 2,
   "id": "e0ec4351",
   "metadata": {},
   "outputs": [
    {
     "data": {
      "image/png": "[encoded data removed]",
      "text/plain": [
       "<Figure size 720x720 with 1 Axes>"
      ]
     },
     "metadata": {},
     "output_type": "display_data"
    },
    {
     "name": "stdout",
     "output_type": "stream",
     "text": [
      "MLP(\n",
      "  (layers): Sequential(\n",
      "    (0): Linear(in_features=1000000, out_features=64, bias=True)\n",
      "    (1): ReLU()\n",
      "    (2): Linear(in_features=64, out_features=2, bias=True)\n",
      "  )\n",
      ")\n",
      "WARNING: unrecognized shape torch.Size([64, 1000000]), so the closest shape at index [64, 8192, 1, 1] will be used instead.\n",
      "number of parameter tensors predicted using GHN: 4, total parameters predicted: 64000194 (MATCHED!), time to predict (on CUDA:0): 0.2748 sec\n",
      "predictions:\n",
      " tensor([[9.5539, 8.7456],\n",
      "        [9.5420, 8.7253],\n",
      "        [9.5402, 8.7330],\n",
      "        [9.5495, 8.7399],\n",
      "        [9.5667, 8.7562]], grad_fn=<AddmmBackward>)\n",
      "\n",
      "done\n"
     ]
    }
   ],
   "source": [
    "ghn = GHN2('imagenet')  # load GHN2 trained on ImageNet\n",
    "\n",
    "in_features = 1000000   # assume we have tabular data with 100000 features\n",
    "num_classes = 2         # assume we want to solve a binary classification task for these data\n",
    "\n",
    "# Define the network configuration\n",
    "class MLP(nn.Module):\n",
    "    def __init__(self, in_features, num_classes, C=64):\n",
    "        super(MLP, self).__init__()\n",
    "        self.in_features = in_features\n",
    "        self.layers = nn.Sequential(nn.Linear(in_features, C),\n",
    "                                    nn.ReLU(),\n",
    "                                    nn.Linear(C, num_classes)\n",
    "                                    )\n",
    "\n",
    "    def forward(self, x):\n",
    "        return self.layers(x)\n",
    "\n",
    "model = MLP(in_features=in_features, num_classes=num_classes).eval()    # Create the net\n",
    "model.expected_input_sz = (in_features,)\n",
    "Graph(model).visualize()\n",
    "print(model)\n",
    "model = ghn(model)      # Predict all parameters for the model\n",
    "\n",
    "# Make predictions using the predicted parameters on 5 samples\n",
    "model.to('cpu')\n",
    "n_samples = 5\n",
    "x = torch.rand(n_samples, in_features)  # generate random input\n",
    "print('predictions:\\n', model(x))  \n",
    "# Note: since GHN2 was trained on ImageNet, these predictions will be meaningless\n",
    "# But predicted parameters may be useful as a starting point depending on the task\n",
    "\n",
    "print('\\ndone')"
   ]
  }
 ],
 "metadata": {
  "kernelspec": {
   "display_name": "Python [conda env:ghntmp]",
   "language": "python",
   "name": "conda-env-ghntmp-py"
  },
  "language_info": {
   "codemirror_mode": {
    "name": "ipython",
    "version": 3
   },
   "file_extension": ".py",
   "mimetype": "text/x-python",
   "name": "python",
   "nbconvert_exporter": "python",
   "pygments_lexer": "ipython3",
   "version": "3.7.9"
  }
 },
 "nbformat": 4,
 "nbformat_minor": 5
}
