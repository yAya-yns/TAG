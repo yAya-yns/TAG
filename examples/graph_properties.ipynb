{
 "cells": [
  {
   "cell_type": "code",
   "execution_count": 4,
   "metadata": {},
   "outputs": [],
   "source": [
    "# Copyright (c) Facebook, Inc. and its affiliates.\n",
    "# All rights reserved.\n",
    "#\n",
    "# This source code is licensed under the license found in the\n",
    "# LICENSE file in the root directory of this source tree.\n",
    "\n",
    "import torch\n",
    "import torchvision\n",
    "import matplotlib.pyplot as plt\n",
    "from tqdm import tqdm\n",
    "\n",
    "from ppuda.deepnets1m.graph import Graph\n",
    "from ppuda.deepnets1m.genotypes import ViT, DARTS\n",
    "from ppuda.deepnets1m.loader import DeepNets1M\n",
    "import numpy as np"
   ]
  },
  {
   "cell_type": "code",
   "execution_count": 5,
   "metadata": {
    "scrolled": false
   },
   "outputs": [
    {
     "name": "stdout",
     "output_type": "stream",
     "text": [
      "\n",
      "loading TRAIN nets...\n",
      "loaded 1000/1000000 nets with 35-681 nodes (mean±std: 192.3±94.9)\n"
     ]
    },
    {
     "name": "stderr",
     "output_type": "stream",
     "text": [
      "100%|███████████████████████████████████████▉| 999/1000 [00:40<00:00, 24.77it/s]\n"
     ]
    },
    {
     "name": "stdout",
     "output_type": "stream",
     "text": [
      "train-avg_degree: 2.3 +- 0.1\n",
      "train-avg_path: 14.5 +- 4.8\n",
      "\n",
      "loading VAL nets...\n",
      "loaded 500/500 nets with 33-549 nodes (mean±std: 190.5±94.4)\n"
     ]
    },
    {
     "name": "stderr",
     "output_type": "stream",
     "text": [
      "100%|█████████████████████████████████████████| 500/500 [00:19<00:00, 25.74it/s]\n"
     ]
    },
    {
     "name": "stdout",
     "output_type": "stream",
     "text": [
      "val-avg_degree: 2.3 +- 0.1\n",
      "val-avg_path: 14.5 +- 5.0\n",
      "\n",
      "loading TEST nets...\n",
      "loaded 500/500 nets with 43-579 nodes (mean±std: 185.5±91.2)\n"
     ]
    },
    {
     "name": "stderr",
     "output_type": "stream",
     "text": [
      "100%|█████████████████████████████████████████| 500/500 [00:18<00:00, 27.39it/s]\n"
     ]
    },
    {
     "name": "stdout",
     "output_type": "stream",
     "text": [
      "test-avg_degree: 2.3 +- 0.1\n",
      "test-avg_path: 14.3 +- 4.8\n",
      "\n",
      "loading WIDE nets...\n",
      "loaded 100/100 nets with 48-381 nodes (mean±std: 178.6±75.1)\n"
     ]
    },
    {
     "name": "stderr",
     "output_type": "stream",
     "text": [
      "100%|█████████████████████████████████████████| 100/100 [00:03<00:00, 30.05it/s]\n"
     ]
    },
    {
     "name": "stdout",
     "output_type": "stream",
     "text": [
      "wide-avg_degree: 2.3 +- 0.1\n",
      "wide-avg_path: 14.7 +- 4.9\n",
      "\n",
      "loading DEEP nets...\n",
      "loaded 100/100 nets with 74-1017 nodes (mean±std: 391.2±176.7)\n"
     ]
    },
    {
     "name": "stderr",
     "output_type": "stream",
     "text": [
      "100%|█████████████████████████████████████████| 100/100 [00:14<00:00,  6.76it/s]\n"
     ]
    },
    {
     "name": "stdout",
     "output_type": "stream",
     "text": [
      "deep-avg_degree: 2.3 +- 0.1\n",
      "deep-avg_path: 26.2 +- 9.3\n",
      "\n",
      "loading DENSE nets...\n",
      "loaded 100/100 nets with 57-993 nodes (mean±std: 355.1±182.3)\n"
     ]
    },
    {
     "name": "stderr",
     "output_type": "stream",
     "text": [
      "100%|█████████████████████████████████████████| 100/100 [00:12<00:00,  7.93it/s]\n"
     ]
    },
    {
     "name": "stdout",
     "output_type": "stream",
     "text": [
      "dense-avg_degree: 2.4 +- 0.1\n",
      "dense-avg_path: 15.1 +- 4.1\n",
      "\n",
      "loading BNFREE nets...\n",
      "loaded 100/100 nets with 33-503 nodes (mean±std: 135.1±78.1)\n"
     ]
    },
    {
     "name": "stderr",
     "output_type": "stream",
     "text": [
      "100%|█████████████████████████████████████████| 100/100 [00:02<00:00, 45.06it/s]\n"
     ]
    },
    {
     "name": "stdout",
     "output_type": "stream",
     "text": [
      "bnfree-avg_degree: 2.4 +- 0.1\n",
      "bnfree-avg_path: 10.0 +- 2.8\n",
      "\n",
      "loading PREDEFINED nets...\n",
      "loaded 2/2 nets with 126-129 nodes (mean±std: 127.5±2.1)\n"
     ]
    },
    {
     "name": "stderr",
     "output_type": "stream",
     "text": [
      "100%|█████████████████████████████████████████████| 2/2 [00:00<00:00, 72.66it/s]"
     ]
    },
    {
     "name": "stdout",
     "output_type": "stream",
     "text": [
      "predefined-avg_degree: 2.3 +- 0.0\n",
      "predefined-avg_path: 10.9 +- 0.2\n",
      "[{'avg_degree': 2.238095238095238, 'avg_path': 11.193269841269842}, {'avg_degree': 2.294573643410853, 'avg_path': 10.700096899224807}]\n"
     ]
    },
    {
     "name": "stderr",
     "output_type": "stream",
     "text": [
      "\n"
     ]
    }
   ],
   "source": [
    "for split_id, split in enumerate(['train', 'val', 'test', 'wide', 'deep', 'dense', 'bnfree', 'predefined']):\n",
    "    graphs_queue = DeepNets1M.loader(split=split, nets_dir='../data/', num_nets=1000)\n",
    "    props = []\n",
    "    for graph in tqdm(graphs_queue):\n",
    "        props.append(graph[0].properties())\n",
    "        if len(props) >= 1000:\n",
    "            break\n",
    "    \n",
    "    for key in props[-1]:\n",
    "        y = [prop[key] for prop in props]\n",
    "        print('{}-{}: {:.1f} +- {:.1f}'.format(split, key, np.mean(y), np.std(y)))\n",
    "    if split == 'predefined':\n",
    "        print(props)\n",
    "        "
   ]
  },
  {
   "cell_type": "code",
   "execution_count": null,
   "metadata": {},
   "outputs": [],
   "source": []
  }
 ],
 "metadata": {
  "kernelspec": {
   "display_name": "Python 3",
   "language": "python",
   "name": "python3"
  },
  "language_info": {
   "codemirror_mode": {
    "name": "ipython",
    "version": 3
   },
   "file_extension": ".py",
   "mimetype": "text/x-python",
   "name": "python",
   "nbconvert_exporter": "python",
   "pygments_lexer": "ipython3",
   "version": "3.7.3"
  }
 },
 "nbformat": 4,
 "nbformat_minor": 5
}
